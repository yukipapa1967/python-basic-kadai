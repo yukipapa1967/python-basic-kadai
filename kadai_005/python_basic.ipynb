{
  "nbformat": 4,
  "nbformat_minor": 0,
  "metadata": {
    "colab": {
      "provenance": []
    },
    "kernelspec": {
      "name": "python3",
      "display_name": "Python 3"
    },
    "language_info": {
      "name": "python"
    }
  },
  "cells": [
    {
      "cell_type": "code",
      "source": [
        "length1 = 10\n",
        "length2 = 20\n",
        "height = 5\n",
        "area = ( length1 + length2 ) * height /2\n",
        "\n",
        "print(\"台形の面積は、\" + str(area) + \"cm² です。\")\n"
      ],
      "metadata": {
        "id": "lKZzKJgUD1ij",
        "outputId": "06cecbf6-80ce-4f80-e07c-02568715c611",
        "colab": {
          "base_uri": "https://localhost:8080/"
        }
      },
      "execution_count": 2,
      "outputs": [
        {
          "output_type": "stream",
          "name": "stdout",
          "text": [
            "台形の面積は、75.0cm² です。\n"
          ]
        }
      ]
    }
  ]
}