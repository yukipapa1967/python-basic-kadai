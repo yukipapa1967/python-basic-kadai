{
  "nbformat": 4,
  "nbformat_minor": 0,
  "metadata": {
    "colab": {
      "provenance": []
    },
    "kernelspec": {
      "name": "python3",
      "display_name": "Python 3"
    },
    "language_info": {
      "name": "python"
    }
  },
  "cells": [
    {
      "cell_type": "code",
      "source": [
        "class Human:\n",
        "\n",
        "    def __init__(self, name, age):\n",
        "        self.name = name\n",
        "        self.age = age\n",
        "\n",
        "    def check_adult(self):\n",
        "        if self.age >= 20:\n",
        "            print(f\"{self.name} は{self.age}歳。大人です。\")\n",
        "        else:\n",
        "            print(f\"{self.name} は {self.age}歳。大人ではありません。\")\n",
        "\n",
        "Human1 = Human(\"あきひろ\", 56)\n",
        "Human2 = Human(\"まゆみ\", 49)\n",
        "Human3 = Human(\"ゆき\", 20)\n",
        "Human4 = Human(\"けんた\", 18)\n",
        "\n",
        "Humans = [Human1, Human2, Human3, Human4]\n",
        "\n",
        "for Human in Humans:\n",
        "    Human.check_adult()\n",
        ""
      ],
      "metadata": {
        "id": "L5qYhWpuVqwP",
        "outputId": "87b9ba7d-6cef-4c1d-e354-0f4d4079b97d",
        "colab": {
          "base_uri": "https://localhost:8080/"
        }
      },
      "execution_count": 1,
      "outputs": [
        {
          "output_type": "stream",
          "name": "stdout",
          "text": [
            "あきひろ は56歳。大人です。\n",
            "まゆみ は49歳。大人です。\n",
            "ゆき は20歳。大人です。\n",
            "けんた は 18歳。大人ではありません。\n"
          ]
        }
      ]
    }
  ]
}