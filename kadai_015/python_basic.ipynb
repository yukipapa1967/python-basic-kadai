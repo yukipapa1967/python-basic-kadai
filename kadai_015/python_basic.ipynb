{
  "nbformat": 4,
  "nbformat_minor": 0,
  "metadata": {
    "colab": {
      "provenance": []
    },
    "kernelspec": {
      "name": "python3",
      "display_name": "Python 3"
    },
    "language_info": {
      "name": "python"
    }
  },
  "cells": [
    {
      "cell_type": "code",
      "source": [
        "class Human:\n",
        "\n",
        "    def __init__(self, name, age):\n",
        "        self.name = name\n",
        "        self.age = age\n",
        "\n",
        "    def printinfo(self):\n",
        "        print(f\"Name: {self.name}, Age: {self.age}\")\n",
        "\n",
        "human = Human(\"太郎\", 56)\n",
        "\n",
        "human.printinfo()\n"
      ],
      "metadata": {
        "id": "lKZzKJgUD1ij",
        "outputId": "b03f178d-e936-4363-98a9-d35761396f5b",
        "colab": {
          "base_uri": "https://localhost:8080/"
        }
      },
      "execution_count": 1,
      "outputs": [
        {
          "output_type": "stream",
          "name": "stdout",
          "text": [
            "Name: 太郎, Age: 56\n"
          ]
        }
      ]
    }
  ]
}