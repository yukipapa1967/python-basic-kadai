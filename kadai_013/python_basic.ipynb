{
  "nbformat": 4,
  "nbformat_minor": 0,
  "metadata": {
    "colab": {
      "provenance": []
    },
    "kernelspec": {
      "name": "python3",
      "display_name": "Python 3"
    },
    "language_info": {
      "name": "python"
    }
  },
  "cells": [
    {
      "cell_type": "code",
      "source": [
        "def caluculate_total(price):\n",
        "  tax = 0.1\n",
        "  return price * (1 + tax)\n",
        "\n",
        "print (f\"税込み価格は、{caluculate_total(2000)}円です。\")"
      ],
      "metadata": {
        "id": "lKZzKJgUD1ij",
        "outputId": "fc28e093-5920-4aa1-e915-8c0952aba951",
        "colab": {
          "base_uri": "https://localhost:8080/"
        }
      },
      "execution_count": 1,
      "outputs": [
        {
          "output_type": "stream",
          "name": "stdout",
          "text": [
            "税込み価格は、2200.0円です。\n"
          ]
        }
      ]
    }
  ]
}