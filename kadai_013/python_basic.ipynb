{
  "nbformat": 4,
  "nbformat_minor": 0,
  "metadata": {
    "colab": {
      "provenance": []
    },
    "kernelspec": {
      "name": "python3",
      "display_name": "Python 3"
    },
    "language_info": {
      "name": "python"
    }
  },
  "cells": [
    {
      "cell_type": "code",
      "source": [
        "price = 2000\n",
        "tax = 0.1\n",
        "\n",
        "def caluculate_total(price, tax):\n",
        "  total = price * (1 + tax)\n",
        "  print (f\"税込み価格は、{total}円です。\")\n",
        "\n",
        "caluculate_total(price, tax)\n"
      ],
      "metadata": {
        "id": "lKZzKJgUD1ij",
        "outputId": "359b3610-e39f-413f-a321-00b3fc0eef20",
        "colab": {
          "base_uri": "https://localhost:8080/"
        }
      },
      "execution_count": 2,
      "outputs": [
        {
          "output_type": "stream",
          "name": "stdout",
          "text": [
            "税込み価格は、2200.0円です。\n"
          ]
        }
      ]
    }
  ]
}